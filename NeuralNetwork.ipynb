{
 "cells": [
  {
   "cell_type": "markdown",
   "metadata": {},
   "source": [
    "# Neural Network to convert Celsius degrees to Fahrenheit degrees"
   ]
  },
  {
   "cell_type": "markdown",
   "metadata": {},
   "source": [
    "## Importing the libraries"
   ]
  },
  {
   "cell_type": "code",
   "execution_count": 2,
   "metadata": {},
   "outputs": [],
   "source": [
    "# biblioteca de código abierto para aprendizaje automático y redes neuronales\n",
    "import tensorflow as tf\n",
    "# Biblioteca para manejo de matrices y vectores, junto con una gran colección de funciones matemáticas de alto nivel para operar con ellas.\n",
    "import numpy as np\n",
    "# Biblioteca para graficar\n",
    "import matplotlib.pyplot as plt\n",
    "# biblioteca para ignorar los warnings\n",
    "import warnings\n",
    "warnings.filterwarnings('ignore')"
   ]
  },
  {
   "cell_type": "markdown",
   "metadata": {},
   "source": [
    "## Data"
   ]
  },
  {
   "cell_type": "code",
   "execution_count": 3,
   "metadata": {},
   "outputs": [],
   "source": [
    "# valores de entrada\n",
    "celsius = np.array([-40, -10, 0, 8, 15, 22, 38], dtype=float)\n",
    "# valores de salida\n",
    "fahrenheit = np.array([-40, 14, 32, 46, 59, 72, 100], dtype=float)"
   ]
  },
  {
   "cell_type": "markdown",
   "metadata": {},
   "source": [
    "## Neural Network Model\n",
    "Además de utilizar tensorflow, se utilizará la librería keras para crear el modelo de la red neuronal, ya que es más sencillo y rápido de implementar."
   ]
  },
  {
   "cell_type": "code",
   "execution_count": 4,
   "metadata": {},
   "outputs": [
    {
     "name": "stdout",
     "output_type": "stream",
     "text": [
      "WARNING:tensorflow:From c:\\Users\\fmira\\AppData\\Local\\Programs\\Python\\Python311\\Lib\\site-packages\\keras\\src\\backend.py:873: The name tf.get_default_graph is deprecated. Please use tf.compat.v1.get_default_graph instead.\n",
      "\n"
     ]
    }
   ],
   "source": [
    "# Neural Layers\n",
    "#? Capa de tipo Dense. Está completamente conectada, donde cada nodo de entrada se conecta a cada nodo de salida.\n",
    "layer = tf.keras.layers.Dense(units=1, input_shape=[1]) #¡ 1 unidad en la capa de salida, 1 entrada\n",
    "\n",
    "#? Modelo de tipo secuencial. Es una pila lineal de capas.\n",
    "model = tf.keras.Sequential([layer])"
   ]
  },
  {
   "cell_type": "code",
   "execution_count": 5,
   "metadata": {},
   "outputs": [],
   "source": [
    "# Configuración el modelo para el entrenamiento.\n",
    "model.compile(\n",
    "    #? Función de pérdida. Mide qué tan lejos está la salida del modelo de la salida deseada.\n",
    "    loss='mean_squared_error', #¡ Poca cantidad de errores grandes es peor que una gran cantidad de errores pequeños.\n",
    "    #? Optimizador. Es cómo el modelo se actualiza en función de los datos que ve y su función de pérdida.\n",
    "    optimizer=tf.keras.optimizers.Adam(0.1) #¡ 0.1 es el tamaño del paso.\n",
    ")"
   ]
  },
  {
   "cell_type": "markdown",
   "metadata": {},
   "source": [
    "### Training"
   ]
  },
  {
   "cell_type": "code",
   "execution_count": 6,
   "metadata": {},
   "outputs": [
    {
     "name": "stdout",
     "output_type": "stream",
     "text": [
      "Entrenando...\n",
      "WARNING:tensorflow:From c:\\Users\\fmira\\AppData\\Local\\Programs\\Python\\Python311\\Lib\\site-packages\\keras\\src\\utils\\tf_utils.py:492: The name tf.ragged.RaggedTensorValue is deprecated. Please use tf.compat.v1.ragged.RaggedTensorValue instead.\n",
      "\n",
      "Modelo entrenado!\n"
     ]
    }
   ],
   "source": [
    "# Entrenamiento del modelo.\n",
    "print('Entrenando...')\n",
    "#? fit() es el método que realiza el entrenamiento.\n",
    "history = model.fit(celsius, fahrenheit, epochs=1000, verbose=False) #¡ epochs es la cantidad de veces que el modelo verá el mismo dato.\n",
    "print('Modelo entrenado!')"
   ]
  },
  {
   "cell_type": "markdown",
   "metadata": {},
   "source": [
    "### Loss function\n",
    "La función de pérdida es la que se encarga de medir el error entre la salida de la red y el valor esperado. En este caso, se utilizará la función de pérdida de error cuadrático medio (MSE)."
   ]
  },
  {
   "cell_type": "code",
   "execution_count": 7,
   "metadata": {},
   "outputs": [
    {
     "data": {
      "text/plain": [
       "[<matplotlib.lines.Line2D at 0x244696ce390>]"
      ]
     },
     "execution_count": 7,
     "metadata": {},
     "output_type": "execute_result"
    },
    {
     "data": {
      "image/png": "[encoded data removed]",
      "text/plain": [
       "<Figure size 640x480 with 1 Axes>"
      ]
     },
     "metadata": {},
     "output_type": "display_data"
    }
   ],
   "source": [
    "# Graficar el error\n",
    "plt.xlabel('Epoch Number')\n",
    "plt.ylabel(\"Loss Magnitude\")\n",
    "plt.plot(history.history['loss'])"
   ]
  },
  {
   "cell_type": "markdown",
   "metadata": {},
   "source": [
    "---\n",
    "\n",
    "**Comentarios**\n",
    "\n",
    "---\n",
    "\n",
    "Podemos ver que en realidad no eran necesarias tantas iteraciones para entrenar la red neuronal, ya que con 500 iteraciones ya se obtiene un error muy bajo, luego de 600 iteraciones el error no disminuye mucho más."
   ]
  },
  {
   "cell_type": "markdown",
   "metadata": {},
   "source": [
    "### Testing"
   ]
  },
  {
   "cell_type": "code",
   "execution_count": 8,
   "metadata": {},
   "outputs": [
    {
     "name": "stdout",
     "output_type": "stream",
     "text": [
      "Hagamos una predicción!\n",
      "1/1 [==============================] - 0s 66ms/step\n",
      "El resultado es [[211.7441]] fahrenheit!\n"
     ]
    }
   ],
   "source": [
    "print('Hagamos una predicción!')\n",
    "resultado = model.predict([100.0]) #¡ 100 grados celsius\n",
    "print(f'El resultado es {resultado} fahrenheit!')"
   ]
  },
  {
   "cell_type": "markdown",
   "metadata": {},
   "source": [
    "---\n",
    "\n",
    "**Comentarios**\n",
    "\n",
    "---\n",
    "\n",
    "El error obtenido en el conjunto de prueba es muy bajo, lo que indica que la red neuronal está funcionando correctamente. 100 grados Celsius son 212 grados Fahrenheit, y la red neuronal predice 211.7 grados Fahrenheit, lo que es muy cercano al valor real."
   ]
  },
  {
   "cell_type": "markdown",
   "metadata": {},
   "source": [
    "### Internal variables"
   ]
  },
  {
   "cell_type": "code",
   "execution_count": 9,
   "metadata": {},
   "outputs": [
    {
     "name": "stdout",
     "output_type": "stream",
     "text": [
      "Variables internas del modelo\n",
      "Variables: [array([[1.7981306]], dtype=float32), array([31.931025], dtype=float32)]\n"
     ]
    }
   ],
   "source": [
    "print('Variables internas del modelo')\n",
    "print(f'Variables: {layer.get_weights()}')"
   ]
  },
  {
   "cell_type": "markdown",
   "metadata": {},
   "source": [
    "---\n",
    "\n",
    "**Interpretación**\n",
    "\n",
    "---\n",
    "\n",
    "El peso asignado a la entrada es 1.79 y el sesgo es 31.93. La salida de la red neuronal es la suma de la entrada multiplicada por el peso y el sesgo. En este caso, la salida es 1.79 * 100 + 31.93 = 211.7 grados Fahrenheit, lo que es muy cercano al valor real.\n",
    "Tambien podemos ver que la formula utilizada por la red neuronal es bastante similar a la formula para convertir grados Celsius a grados Fahrenheit, que es F = 1.8 * C + 32."
   ]
  },
  {
   "cell_type": "markdown",
   "metadata": {},
   "source": [
    "## Conclusiones\n",
    "\n",
    "La red neuronal funciona correctamente, ya que el error obtenido en el conjunto de prueba es muy bajo. Además, la red neuronal utiliza una formula muy similar a la formula para convertir grados Celsius a grados Fahrenheit, lo que indica que la red neuronal aprendió correctamente la relación entre las variables de entrada y la variable de salida.\n",
    "Ahora bien, la formula para convertir grados Celsius a grados Fahrenheit es muy simple, en sí es una función lineal. Un problema más complejo sería no podría ser resulto con una red neuronal tan simple como la utilizada en este ejemplo. Para resolver problemas más complejos, se necesitaría una red neuronal con más capas ocultas y más neuronas por capa oculta."
   ]
  },
  {
   "cell_type": "markdown",
   "metadata": {},
   "source": [
    "## Neural Network with more layers"
   ]
  },
  {
   "cell_type": "code",
   "execution_count": 10,
   "metadata": {},
   "outputs": [],
   "source": [
    "# Creamos nuevas capas para el modelo\n",
    "\n",
    "#? Capas ocultas. Son capas que no son de entrada ni de salida.\n",
    "hlayer1 = tf.keras.layers.Dense(units=3, input_shape=[1])\n",
    "hlayer2 = tf.keras.layers.Dense(units=3)\n",
    "\n",
    "#? Capa de salida.\n",
    "olayer = tf.keras.layers.Dense(units=1)\n",
    "\n",
    "#? Modelo de tipo secuencial. Es una pila lineal de capas.\n",
    "model2 = tf.keras.Sequential([hlayer1, hlayer2, olayer])"
   ]
  },
  {
   "cell_type": "code",
   "execution_count": 11,
   "metadata": {},
   "outputs": [],
   "source": [
    "# Configuración el modelo para el entrenamiento.\n",
    "model2.compile(\n",
    "    #? Función de pérdida. Mide qué tan lejos está la salida del modelo de la salida deseada.\n",
    "    loss='mean_squared_error', #¡ Poca cantidad de errores grandes es peor que una gran cantidad de errores pequeños.\n",
    "    #? Optimizador. Es cómo el modelo se actualiza en función de los datos que ve y su función de pérdida.\n",
    "    optimizer=tf.keras.optimizers.Adam(0.1) #¡ 0.1 es el tamaño del paso.\n",
    ")"
   ]
  },
  {
   "cell_type": "code",
   "execution_count": 12,
   "metadata": {},
   "outputs": [
    {
     "name": "stdout",
     "output_type": "stream",
     "text": [
      "Entrenando...\n",
      "Modelo entrenado!\n"
     ]
    }
   ],
   "source": [
    "# Entrenamiento del modelo.\n",
    "print('Entrenando...')\n",
    "#? fit() es el método que realiza el entrenamiento.\n",
    "historym2 = model2.fit(celsius, fahrenheit, epochs=1000, verbose=False) #¡ epochs es la cantidad de veces que el modelo verá el mismo dato.\n",
    "print('Modelo entrenado!')"
   ]
  },
  {
   "cell_type": "code",
   "execution_count": 15,
   "metadata": {},
   "outputs": [
    {
     "data": {
      "text/plain": [
       "[<matplotlib.lines.Line2D at 0x2446cffde10>]"
      ]
     },
     "execution_count": 15,
     "metadata": {},
     "output_type": "execute_result"
    },
    {
     "data": {
      "image/png": "[encoded data removed]",
      "text/plain": [
       "<Figure size 640x480 with 1 Axes>"
      ]
     },
     "metadata": {},
     "output_type": "display_data"
    }
   ],
   "source": [
    "# Graficar el error\n",
    "plt.xlabel('Epoch Number')\n",
    "plt.ylabel(\"Loss Magnitude\")\n",
    "plt.plot(historym2.history['loss'])"
   ]
  },
  {
   "cell_type": "markdown",
   "metadata": {},
   "source": [
    "---\n",
    "\n",
    "**Comentarios**\n",
    "\n",
    "---\n",
    "\n",
    "Podemos ver que el aprendizaje fue más rápido que en el ejemplo anterior, ya que con 100 iteraciones o menos ya se obtiene un error muy bajo, es más, antes de 200 iteraciones el error no disminuye mucho más. Entonces, podemos decir que la red neuronal con más capas ocultas, más compleja, aprende más rápido que la red neuronal con una sola capa oculta. Aunque no siempre es así, ya que depende de la complejidad del problema."
   ]
  },
  {
   "cell_type": "markdown",
   "metadata": {},
   "source": [
    "### Testing"
   ]
  },
  {
   "cell_type": "code",
   "execution_count": 16,
   "metadata": {},
   "outputs": [
    {
     "name": "stdout",
     "output_type": "stream",
     "text": [
      "Hagamos una predicción!\n",
      "1/1 [==============================] - 0s 59ms/step\n",
      "El resultado es [[211.74731]] fahrenheit!\n"
     ]
    }
   ],
   "source": [
    "print('Hagamos una predicción!')\n",
    "resultado = model2.predict([100.0]) #¡ 100 grados celsius\n",
    "print(f'El resultado es {resultado} fahrenheit!')"
   ]
  },
  {
   "cell_type": "markdown",
   "metadata": {},
   "source": [
    "### Internal variables"
   ]
  },
  {
   "cell_type": "code",
   "execution_count": 18,
   "metadata": {},
   "outputs": [
    {
     "name": "stdout",
     "output_type": "stream",
     "text": [
      "Variables internas del modelo con capas ocultas\n",
      "Capa oculta 1: [array([[ 0.02342853,  0.12820141, -0.9466781 ]], dtype=float32), array([ 3.6295233,  3.6848192, -3.725845 ], dtype=float32)]\n",
      "Capa oculta 2: [array([[-0.521539  , -1.5550367 ,  0.8576535 ],\n",
      "       [ 0.6972905 , -1.5816345 , -0.36657938],\n",
      "       [ 0.37661552,  0.94114864,  0.21680036]], dtype=float32), array([-1.8851026, -3.7147372, -1.5901222], dtype=float32)]\n",
      "Capa de salida: [array([[-0.33952606],\n",
      "       [-1.462697  ],\n",
      "       [-0.21542637]], dtype=float32), array([3.585994], dtype=float32)]\n"
     ]
    }
   ],
   "source": [
    "print('Variables internas del modelo con capas ocultas')\n",
    "print(f'Capa oculta 1: {hlayer1.get_weights()}')\n",
    "print(f'Capa oculta 2: {hlayer2.get_weights()}')\n",
    "print(f'Capa de salida: {olayer.get_weights()}')"
   ]
  },
  {
   "cell_type": "markdown",
   "metadata": {},
   "source": [
    "---\n",
    "\n",
    "**Interpretación**\n",
    "\n",
    "---\n",
    "\n",
    "En realidad, no vale de mucho intentar interpretar los pesos que la red neuronal le asignó a las neuronas en las capas ocultas, ya que no se puede saber con certeza que es lo que cada neurona está aprendiendo. Simplemente fue la mejor forma que encontró la red neuronal para resolver el problema.\n",
    "\n",
    "Esto puede suceder con redes neuronales muy complejas, con muchas capas ocultas y muchas neuronas por capa oculta. En estos casos, no se puede saber con certeza porqué considera que cierta combinación de pesos y sesgos es la mejor forma de resolver el problema. Por eso, las redes neuronales son consideradas como una caja negra."
   ]
  }
 ],
 "metadata": {
  "kernelspec": {
   "display_name": "Python 3",
   "language": "python",
   "name": "python3"
  },
  "language_info": {
   "codemirror_mode": {
    "name": "ipython",
    "version": 3
   },
   "file_extension": ".py",
   "mimetype": "text/x-python",
   "name": "python",
   "nbconvert_exporter": "python",
   "pygments_lexer": "ipython3",
   "version": "3.11.5"
  }
 },
 "nbformat": 4,
 "nbformat_minor": 2
}
