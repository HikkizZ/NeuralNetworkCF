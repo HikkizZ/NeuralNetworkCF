{
 "cells": [
  {
   "cell_type": "markdown",
   "metadata": {},
   "source": [
    "# Neural Network to convert Celsius degrees to Fahrenheit degrees"
   ]
  },
  {
   "cell_type": "markdown",
   "metadata": {},
   "source": [
    "## Importing the libraries"
   ]
  },
  {
   "cell_type": "code",
   "execution_count": 13,
   "metadata": {},
   "outputs": [],
   "source": [
    "# biblioteca de código abierto para aprendizaje automático y redes neuronales\n",
    "import tensorflow as tf\n",
    "# Biblioteca para manejo de matrices y vectores, junto con una gran colección de funciones matemáticas de alto nivel para operar con ellas.\n",
    "import numpy as np\n",
    "# Biblioteca para graficar\n",
    "import matplotlib.pyplot as plt\n",
    "# biblioteca para ignorar los warnings\n",
    "import warnings\n",
    "warnings.filterwarnings('ignore')"
   ]
  },
  {
   "cell_type": "markdown",
   "metadata": {},
   "source": [
    "## Data"
   ]
  },
  {
   "cell_type": "code",
   "execution_count": 9,
   "metadata": {},
   "outputs": [],
   "source": [
    "# valores de entrada\n",
    "celsius = np.array([-40, -10, 0, 8, 15, 22, 38], dtype=float)\n",
    "# valores de salida\n",
    "fahrenheit = np.array([-40, 14, 32, 46, 59, 72, 100], dtype=float)"
   ]
  },
  {
   "cell_type": "markdown",
   "metadata": {},
   "source": [
    "## Neural Network Model\n",
    "Además de utilizar tensorflow, se utilizará la librería keras para crear el modelo de la red neuronal, ya que es más sencillo y rápido de implementar."
   ]
  },
  {
   "cell_type": "code",
   "execution_count": 10,
   "metadata": {},
   "outputs": [],
   "source": [
    "# Neural Layers\n",
    "#? Capa de tipo Dense. Está completamente conectada, donde cada nodo de entrada se conecta a cada nodo de salida.\n",
    "layer = tf.keras.layers.Dense(units=1, input_shape=[1]) #¡ 1 unidad en la capa de salida, 1 entrada\n",
    "\n",
    "#? Modelo de tipo secuencial. Es una pila lineal de capas.\n",
    "model = tf.keras.Sequential([layer])"
   ]
  },
  {
   "cell_type": "code",
   "execution_count": 11,
   "metadata": {},
   "outputs": [],
   "source": [
    "# Configuración el modelo para el entrenamiento.\n",
    "model.compile(\n",
    "    #? Función de pérdida. Mide qué tan lejos está la salida del modelo de la salida deseada.\n",
    "    loss='mean_squared_error', #¡ Poca cantidad de errores grandes es peor que una gran cantidad de errores pequeños.\n",
    "    #? Optimizador. Es cómo el modelo se actualiza en función de los datos que ve y su función de pérdida.\n",
    "    optimizer=tf.keras.optimizers.Adam(0.1) #¡ 0.1 es el tamaño del paso.\n",
    ")"
   ]
  },
  {
   "cell_type": "markdown",
   "metadata": {},
   "source": [
    "### Training"
   ]
  },
  {
   "cell_type": "code",
   "execution_count": 12,
   "metadata": {},
   "outputs": [
    {
     "name": "stdout",
     "output_type": "stream",
     "text": [
      "Entrenando...\n",
      "Modelo entrenado.\n"
     ]
    }
   ],
   "source": [
    "# Entrenamiento del modelo.\n",
    "print('Entrenando...')\n",
    "#? fit() es el método que realiza el entrenamiento.\n",
    "history = model.fit(celsius, fahrenheit, epochs=1000, verbose=False) #¡ epochs es la cantidad de veces que el modelo verá el mismo dato.\n",
    "print('Modelo entrenado!')"
   ]
  },
  {
   "cell_type": "markdown",
   "metadata": {},
   "source": [
    "### Loss function\n",
    "La función de pérdida es la que se encarga de medir el error entre la salida de la red y el valor esperado. En este caso, se utilizará la función de pérdida de error cuadrático medio (MSE)."
   ]
  },
  {
   "cell_type": "code",
   "execution_count": 14,
   "metadata": {},
   "outputs": [
    {
     "data": {
      "text/plain": [
       "[<matplotlib.lines.Line2D at 0x21283a16410>]"
      ]
     },
     "execution_count": 14,
     "metadata": {},
     "output_type": "execute_result"
    },
    {
     "data": {
      "image/png": "[encoded data removed]",
      "text/plain": [
       "<Figure size 640x480 with 1 Axes>"
      ]
     },
     "metadata": {},
     "output_type": "display_data"
    }
   ],
   "source": [
    "# Graficar el error\n",
    "plt.xlabel('Epoch Number')\n",
    "plt.ylabel(\"Loss Magnitude\")\n",
    "plt.plot(history.history['loss'])"
   ]
  },
  {
   "cell_type": "markdown",
   "metadata": {},
   "source": [
    "---\n",
    "\n",
    "**Comentarios**\n",
    "\n",
    "---\n",
    "\n",
    "Podemos ver que en realidad no eran necesarias tantas iteraciones para entrenar la red neuronal, ya que con 500 iteraciones ya se obtiene un error muy bajo, luego de 600 iteraciones el error no disminuye mucho más."
   ]
  },
  {
   "cell_type": "markdown",
   "metadata": {},
   "source": [
    "### Testing"
   ]
  },
  {
   "cell_type": "code",
   "execution_count": 15,
   "metadata": {},
   "outputs": [
    {
     "name": "stdout",
     "output_type": "stream",
     "text": [
      "Hagamos una predicción!\n",
      "1/1 [==============================] - 0s 80ms/step\n",
      "El resultado es [[211.74028]] fahrenheit!\n"
     ]
    }
   ],
   "source": [
    "print('Hagamos una predicción!')\n",
    "resultado = model.predict([100.0]) #¡ 100 grados celsius\n",
    "print(f'El resultado es {resultado} fahrenheit!')"
   ]
  },
  {
   "cell_type": "markdown",
   "metadata": {},
   "source": [
    "---\n",
    "\n",
    "**Comentarios**\n",
    "\n",
    "---\n",
    "\n",
    "El error obtenido en el conjunto de prueba es muy bajo, lo que indica que la red neuronal está funcionando correctamente. 100 grados Celsius son 212 grados Fahrenheit, y la red neuronal predice 211.7 grados Fahrenheit, lo que es muy cercano al valor real."
   ]
  },
  {
   "cell_type": "markdown",
   "metadata": {},
   "source": [
    "### Internal variables"
   ]
  },
  {
   "cell_type": "code",
   "execution_count": 16,
   "metadata": {},
   "outputs": [
    {
     "name": "stdout",
     "output_type": "stream",
     "text": [
      "Variables internas del modelo\n",
      "Variables: [array([[1.798419]], dtype=float32), array([31.898382], dtype=float32)]\n"
     ]
    }
   ],
   "source": [
    "print('Variables internas del modelo')\n",
    "print(f'Variables: {layer.get_weights()}')"
   ]
  },
  {
   "cell_type": "markdown",
   "metadata": {},
   "source": [
    "---\n",
    "\n",
    "**Interpretación**\n",
    "\n",
    "---\n",
    "\n",
    "El peso asignado a la entrada es 1.79 y el sesgo es 31.89. La salida de la red neuronal es la suma de la entrada multiplicada por el peso y el sesgo. En este caso, la salida es 1.79 * 100 + 31.89 = 211.9 grados Fahrenheit, lo que es muy cercano al valor real.\n",
    "Tambien podemos ver que la formula utilizada por la red neuronal es bastante similar a la formula para convertir grados Celsius a grados Fahrenheit, que es F = 1.8 * C + 32."
   ]
  },
  {
   "cell_type": "markdown",
   "metadata": {},
   "source": [
    "## Conclusiones\n",
    "\n",
    "La red neuronal funciona correctamente, ya que el error obtenido en el conjunto de prueba es muy bajo. Además, la red neuronal utiliza una formula muy similar a la formula para convertir grados Celsius a grados Fahrenheit, lo que indica que la red neuronal aprendió correctamente la relación entre las variables de entrada y la variable de salida.\n",
    "Ahora bien, la formula para convertir grados Celsius a grados Fahrenheit es muy simple, en sí es una función lineal. Un problema más complejo sería no podría ser resulto con una red neuronal tan simple como la utilizada en este ejemplo. Para resolver problemas más complejos, se necesitaría una red neuronal con más capas ocultas y más neuronas por capa oculta."
   ]
  }
 ],
 "metadata": {
  "kernelspec": {
   "display_name": "Python 3",
   "language": "python",
   "name": "python3"
  },
  "language_info": {
   "codemirror_mode": {
    "name": "ipython",
    "version": 3
   },
   "file_extension": ".py",
   "mimetype": "text/x-python",
   "name": "python",
   "nbconvert_exporter": "python",
   "pygments_lexer": "ipython3",
   "version": "3.11.5"
  }
 },
 "nbformat": 4,
 "nbformat_minor": 2
}
